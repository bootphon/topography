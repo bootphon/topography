{
 "cells": [
  {
   "cell_type": "markdown",
   "id": "403ee46c-b99e-4217-a643-b2059ede004f",
   "metadata": {},
   "source": [
    "# Birdsong detection with VGG16\n",
    "\n",
    "The following notebook trains a VGG16 from scratch on Bird-DCASE\n",
    "to detect birdsong and achieves (around 1M samples seen)\n",
    "with the given hyperparameters."
   ]
  },
  {
   "cell_type": "markdown",
   "id": "d196ae1a-2934-41e5-8460-db472a1d8c1e",
   "metadata": {},
   "source": [
    "## Imports"
   ]
  },
  {
   "cell_type": "code",
   "execution_count": null,
   "id": "d476d0d2",
   "metadata": {},
   "outputs": [],
   "source": [
    "import random\n",
    "\n",
    "import numpy as np\n",
    "import torch\n",
    "import torch.optim as optim\n",
    "from torch import nn\n",
    "\n",
    "from topography.models import speech_vgg\n",
    "from topography.training import Writer, evaluate, train\n",
    "from topography.utils import LinearWarmupCosineAnnealingLR\n",
    "from topography.utils.data import BirdDCASE, RandomAudioFeaturesCrop"
   ]
  },
  {
   "cell_type": "markdown",
   "id": "6f7840f1-63f0-4475-bbab-0c2a87ae353f",
   "metadata": {},
   "source": [
    "## Hyperparameters and random seed"
   ]
  },
  {
   "cell_type": "code",
   "execution_count": null,
   "id": "842c1bf5-7a66-4656-99a4-90d0a4cae483",
   "metadata": {},
   "outputs": [],
   "source": [
    "seed = 0  # Random seed\n",
    "root = \"./bird_dcase\"  # Output directory\n",
    "\n",
    "epochs = 12  # Number of training epochs\n",
    "batch_size = 256  # Batch size\n",
    "lr = 0.01  # Base learning rate\n",
    "weight_decay = 0.01  # Weight decay\n",
    "momentum = 0.9  # SGD momentum"
   ]
  },
  {
   "cell_type": "code",
   "execution_count": null,
   "id": "8b589d9b-bc05-43ae-a5eb-13cc10299399",
   "metadata": {},
   "outputs": [],
   "source": [
    "random.seed(seed)\n",
    "np.random.seed(seed)\n",
    "torch.manual_seed(seed)\n",
    "torch.cuda.manual_seed_all(seed)\n",
    "torch.backends.cudnn.deterministic = True\n",
    "torch.backends.cudnn.benchmark = False"
   ]
  },
  {
   "cell_type": "markdown",
   "id": "e51bf739-0b54-4c42-a811-f8688cc12517",
   "metadata": {},
   "source": [
    "## Data loading"
   ]
  },
  {
   "cell_type": "code",
   "execution_count": null,
   "id": "18d037aa-75ee-46c3-a130-36246177831c",
   "metadata": {},
   "outputs": [],
   "source": [
    "validation_set = \"freefield1010\"\n",
    "transform = RandomAudioFeaturesCrop(sample_rate=BirdDCASE.SAMPLE_RATE)\n",
    "\n",
    "train_set = BirdDCASE(\n",
    "    \"../../data\", subset=\"training\", download=True, process=False, crop=True\n",
    ")\n",
    "train_loader = torch.utils.data.DataLoader(\n",
    "    train_set,\n",
    "    batch_size=batch_size,\n",
    "    shuffle=True,\n",
    "    num_workers=2,\n",
    "    pin_memory=True,\n",
    ")\n",
    "val_set = BirdDCASE(\"../../data\", subset=\"validation\", crop=True)\n",
    "val_loader = torch.utils.data.DataLoader(\n",
    "    val_set,\n",
    "    batch_size=batch_size,\n",
    "    shuffle=False,\n",
    "    num_workers=2,\n",
    "    pin_memory=True,\n",
    ")"
   ]
  },
  {
   "cell_type": "markdown",
   "id": "213e2cf3-6398-4bbb-990c-ab164dabfec9",
   "metadata": {},
   "source": [
    "## Defining the main componenents"
   ]
  },
  {
   "cell_type": "code",
   "execution_count": null,
   "id": "962d57b5-97c5-495f-afff-5155afde03a8",
   "metadata": {},
   "outputs": [],
   "source": [
    "device = 'cuda' if torch.cuda.is_available() else 'cpu'\n",
    "criterion = nn.CrossEntropyLoss()\n",
    "model = speech_vgg(num_classes=2).to(device)\n",
    "optimizer = optim.SGD(model.parameters(),\n",
    "                      lr=lr, momentum=momentum, weight_decay=weight_decay)\n",
    "\n",
    "scheduler = LinearWarmupCosineAnnealingLR(\n",
    "    optimizer, warmup_epochs=epochs*0.3, max_epochs=epochs)\n",
    "writer = Writer(root)\n",
    "\n",
    "writer.log_hparams(epochs=epochs, batch_size=batch_size, lr=lr,\n",
    "                   weight_decay=weight_decay, momentum=momentum,\n",
    "                   model=\"speech_vgg\",\n",
    "                   optimizer='sgd', scheduler='LinearWarmupCosineAnnealingLR')"
   ]
  },
  {
   "cell_type": "markdown",
   "id": "05dd9b7c-5c66-42e1-8d7d-612657e9abd9",
   "metadata": {},
   "source": [
    "## Training the model"
   ]
  },
  {
   "cell_type": "code",
   "execution_count": null,
   "id": "b7ab8f14-e700-431f-8868-c6248677ac56",
   "metadata": {},
   "outputs": [],
   "source": [
    "for _ in range(epochs):\n",
    "    train(\n",
    "        model,\n",
    "        train_loader,\n",
    "        optimizer,\n",
    "        criterion,\n",
    "        device,\n",
    "        writer,\n",
    "        is_pytorch_loss=True,\n",
    "    )\n",
    "    evaluate(\n",
    "        model,\n",
    "        val_loader,\n",
    "        criterion,\n",
    "        device,\n",
    "        writer,\n",
    "        mode=\"val\",\n",
    "        is_pytorch_loss=True,\n",
    "    )\n",
    "    scheduler.step()\n",
    "    writer.save(\n",
    "        \"val\", \"acc\", model=model, optimizer=optimizer, scheduler=scheduler\n",
    "    )"
   ]
  },
  {
   "cell_type": "markdown",
   "id": "19f7ad86-74df-43b9-8f2e-4e58e304b3f4",
   "metadata": {},
   "source": [
    "## Final evaluation"
   ]
  },
  {
   "cell_type": "code",
   "execution_count": null,
   "id": "cdb65865-c9fd-49ab-ac00-99c507417a81",
   "metadata": {},
   "outputs": [],
   "source": [
    "evaluate(\n",
    "    model,\n",
    "    val_loader,\n",
    "    criterion,\n",
    "    device,\n",
    "    writer,\n",
    "    mode=\"test\",\n",
    "    is_pytorch_loss=True,\n",
    ")\n",
    "writer.close()"
   ]
  }
 ],
 "metadata": {
  "kernelspec": {
   "display_name": "Python [conda env:.conda-topo]",
   "language": "python",
   "name": "conda-env-.conda-topo-py"
  },
  "language_info": {
   "codemirror_mode": {
    "name": "ipython",
    "version": 3
   },
   "file_extension": ".py",
   "mimetype": "text/x-python",
   "name": "python",
   "nbconvert_exporter": "python",
   "pygments_lexer": "ipython3",
   "version": "3.10.4"
  }
 },
 "nbformat": 4,
 "nbformat_minor": 5
}
