{
 "cells": [
  {
   "cell_type": "markdown",
   "id": "403ee46c-b99e-4217-a643-b2059ede004f",
   "metadata": {},
   "source": [
    "# Birdsong detection with VGG16\n",
    "\n",
    "The following notebook trains a VGG16 from scratch on Bird-DCASE\n",
    "to detect birdsong and achieves (around 1M samples seen)\n",
    "with the given hyperparameters."
   ]
  },
  {
   "cell_type": "markdown",
   "id": "d196ae1a-2934-41e5-8460-db472a1d8c1e",
   "metadata": {},
   "source": [
    "## Imports"
   ]
  },
  {
   "cell_type": "code",
   "execution_count": 1,
   "id": "59ed12b0-fba3-474a-9b4f-b11cc9b8037b",
   "metadata": {},
   "outputs": [],
   "source": [
    "%load_ext autoreload\n",
    "%autoreload 2"
   ]
  },
  {
   "cell_type": "code",
   "execution_count": 2,
   "id": "d476d0d2",
   "metadata": {},
   "outputs": [],
   "source": [
    "import random\n",
    "\n",
    "import numpy as np\n",
    "import torch\n",
    "import torch.optim as optim\n",
    "from torch import nn\n",
    "\n",
    "from topography.models import speech_vgg\n",
    "from topography.training import Writer, train, evaluate\n",
    "from topography.utils import LinearWarmupCosineAnnealingLR\n",
    "from topography.utils.data import BirdDCASE, evaluate_with_crop"
   ]
  },
  {
   "cell_type": "markdown",
   "id": "6f7840f1-63f0-4475-bbab-0c2a87ae353f",
   "metadata": {},
   "source": [
    "## Hyperparameters and random seed"
   ]
  },
  {
   "cell_type": "code",
   "execution_count": 3,
   "id": "842c1bf5-7a66-4656-99a4-90d0a4cae483",
   "metadata": {},
   "outputs": [],
   "source": [
    "seed = 0  # Random seed\n",
    "root = \"./bird_dcase\"  # Output directory\n",
    "\n",
    "epochs = 12 \n",
    "batch_size = 256  # Batch size\n",
    "lr = 0.01  # Base learning rate\n",
    "weight_decay = 0.01  # Weight decay\n",
    "momentum = 0.9  # SGD momentum"
   ]
  },
  {
   "cell_type": "code",
   "execution_count": 4,
   "id": "8b589d9b-bc05-43ae-a5eb-13cc10299399",
   "metadata": {},
   "outputs": [],
   "source": [
    "random.seed(seed)\n",
    "np.random.seed(seed)\n",
    "torch.manual_seed(seed)\n",
    "torch.cuda.manual_seed_all(seed)\n",
    "torch.backends.cudnn.deterministic = True\n",
    "torch.backends.cudnn.benchmark = False"
   ]
  },
  {
   "cell_type": "markdown",
   "id": "e51bf739-0b54-4c42-a811-f8688cc12517",
   "metadata": {},
   "source": [
    "## Data loading"
   ]
  },
  {
   "cell_type": "code",
   "execution_count": 5,
   "id": "18d037aa-75ee-46c3-a130-36246177831c",
   "metadata": {},
   "outputs": [],
   "source": [
    "# validation_set = \"warblrb10k\"\n",
    "validation_set = \"BirdVox-DCASE-20k\"\n",
    "duration = 1\n",
    "\n",
    "train_set = BirdDCASE(\n",
    "    \"../../data\",\n",
    "    subset=\"training\",\n",
    "    validation_set=validation_set,\n",
    "    crop=True,\n",
    "    duration=duration\n",
    ")\n",
    "train_loader = torch.utils.data.DataLoader(\n",
    "    train_set,\n",
    "    batch_size=batch_size,\n",
    "    shuffle=True,\n",
    "    num_workers=2,\n",
    "    pin_memory=True,\n",
    ")\n",
    "val_set = BirdDCASE(\n",
    "    \"../../data\",\n",
    "    subset=\"validation\", \n",
    "    validation_set=validation_set,\n",
    "    crop=False,\n",
    ")"
   ]
  },
  {
   "cell_type": "code",
   "execution_count": 7,
   "id": "e568164b-f349-4737-84a1-f7f0d93c5a2c",
   "metadata": {},
   "outputs": [
    {
     "name": "stdout",
     "output_type": "stream",
     "text": [
      "64\n"
     ]
    }
   ],
   "source": [
    "epochs = 1 + 1_000_000 // len(train_set)  # Number of training epochs\n",
    "print(epochs)"
   ]
  },
  {
   "cell_type": "markdown",
   "id": "213e2cf3-6398-4bbb-990c-ab164dabfec9",
   "metadata": {},
   "source": [
    "## Defining the main componenents"
   ]
  },
  {
   "cell_type": "code",
   "execution_count": 8,
   "id": "962d57b5-97c5-495f-afff-5155afde03a8",
   "metadata": {},
   "outputs": [],
   "source": [
    "device = 'cuda' if torch.cuda.is_available() else 'cpu'\n",
    "criterion = nn.CrossEntropyLoss()\n",
    "model = speech_vgg(num_classes=2).to(device)\n",
    "optimizer = optim.SGD(model.parameters(),\n",
    "                      lr=lr, momentum=momentum, weight_decay=weight_decay)\n",
    "\n",
    "scheduler = LinearWarmupCosineAnnealingLR(\n",
    "    optimizer, warmup_epochs=epochs*0.3, max_epochs=epochs)\n",
    "writer = Writer(root)\n",
    "\n",
    "writer.log_hparams(epochs=epochs, batch_size=batch_size, lr=lr,\n",
    "                   weight_decay=weight_decay, momentum=momentum,\n",
    "                   model=\"speech_vgg\",\n",
    "                   optimizer='sgd', scheduler='LinearWarmupCosineAnnealingLR')"
   ]
  },
  {
   "cell_type": "markdown",
   "id": "05dd9b7c-5c66-42e1-8d7d-612657e9abd9",
   "metadata": {},
   "source": [
    "## Training the model"
   ]
  },
  {
   "cell_type": "code",
   "execution_count": null,
   "id": "b7ab8f14-e700-431f-8868-c6248677ac56",
   "metadata": {},
   "outputs": [
    {
     "data": {
      "application/vnd.jupyter.widget-view+json": {
       "model_id": "4dde4d3e5102487998956182c4047763",
       "version_major": 2,
       "version_minor": 0
      },
      "text/plain": [
       "train, epoch 1:   0%|          | 0/62 [00:00<?, ?it/s]"
      ]
     },
     "metadata": {},
     "output_type": "display_data"
    },
    {
     "name": "stdout",
     "output_type": "stream",
     "text": [
      "val, epoch 1, roc_auc 0.505, acc 0.506\n"
     ]
    },
    {
     "data": {
      "application/vnd.jupyter.widget-view+json": {
       "model_id": "de55b0a781e04431a1d3412e467fdab8",
       "version_major": 2,
       "version_minor": 0
      },
      "text/plain": [
       "train, epoch 2:   0%|          | 0/62 [00:00<?, ?it/s]"
      ]
     },
     "metadata": {},
     "output_type": "display_data"
    },
    {
     "name": "stdout",
     "output_type": "stream",
     "text": [
      "val, epoch 2, roc_auc 0.439, acc 0.438\n"
     ]
    },
    {
     "data": {
      "application/vnd.jupyter.widget-view+json": {
       "model_id": "94fe97cbb75d4de68f45a2ff02d7622c",
       "version_major": 2,
       "version_minor": 0
      },
      "text/plain": [
       "train, epoch 3:   0%|          | 0/62 [00:00<?, ?it/s]"
      ]
     },
     "metadata": {},
     "output_type": "display_data"
    },
    {
     "name": "stdout",
     "output_type": "stream",
     "text": [
      "val, epoch 3, roc_auc 0.468, acc 0.468\n"
     ]
    },
    {
     "data": {
      "application/vnd.jupyter.widget-view+json": {
       "model_id": "8485aefb806e46a195e009ac30f5c8ff",
       "version_major": 2,
       "version_minor": 0
      },
      "text/plain": [
       "train, epoch 4:   0%|          | 0/62 [00:00<?, ?it/s]"
      ]
     },
     "metadata": {},
     "output_type": "display_data"
    },
    {
     "name": "stdout",
     "output_type": "stream",
     "text": [
      "val, epoch 4, roc_auc 0.421, acc 0.420\n"
     ]
    },
    {
     "data": {
      "application/vnd.jupyter.widget-view+json": {
       "model_id": "5b2e8b41f805475e9d1d50973dbc4273",
       "version_major": 2,
       "version_minor": 0
      },
      "text/plain": [
       "train, epoch 5:   0%|          | 0/62 [00:00<?, ?it/s]"
      ]
     },
     "metadata": {},
     "output_type": "display_data"
    },
    {
     "name": "stdout",
     "output_type": "stream",
     "text": [
      "val, epoch 5, roc_auc 0.412, acc 0.412\n"
     ]
    },
    {
     "data": {
      "application/vnd.jupyter.widget-view+json": {
       "model_id": "e10962f6749842aface65dfd002b234c",
       "version_major": 2,
       "version_minor": 0
      },
      "text/plain": [
       "train, epoch 6:   0%|          | 0/62 [00:00<?, ?it/s]"
      ]
     },
     "metadata": {},
     "output_type": "display_data"
    },
    {
     "name": "stdout",
     "output_type": "stream",
     "text": [
      "val, epoch 6, roc_auc 0.449, acc 0.449\n"
     ]
    },
    {
     "data": {
      "application/vnd.jupyter.widget-view+json": {
       "model_id": "f2fef92b38944300a50cee0a01c86ad0",
       "version_major": 2,
       "version_minor": 0
      },
      "text/plain": [
       "train, epoch 7:   0%|          | 0/62 [00:00<?, ?it/s]"
      ]
     },
     "metadata": {},
     "output_type": "display_data"
    },
    {
     "name": "stdout",
     "output_type": "stream",
     "text": [
      "val, epoch 7, roc_auc 0.465, acc 0.465\n"
     ]
    },
    {
     "data": {
      "application/vnd.jupyter.widget-view+json": {
       "model_id": "c9a342f1b9f64f6d808f4f0d5644668f",
       "version_major": 2,
       "version_minor": 0
      },
      "text/plain": [
       "train, epoch 8:   0%|          | 0/62 [00:00<?, ?it/s]"
      ]
     },
     "metadata": {},
     "output_type": "display_data"
    },
    {
     "name": "stdout",
     "output_type": "stream",
     "text": [
      "val, epoch 8, roc_auc 0.505, acc 0.505\n"
     ]
    },
    {
     "data": {
      "application/vnd.jupyter.widget-view+json": {
       "model_id": "ce0976a7b9b747a8919f38353c5fdcc3",
       "version_major": 2,
       "version_minor": 0
      },
      "text/plain": [
       "train, epoch 9:   0%|          | 0/62 [00:00<?, ?it/s]"
      ]
     },
     "metadata": {},
     "output_type": "display_data"
    },
    {
     "name": "stdout",
     "output_type": "stream",
     "text": [
      "val, epoch 9, roc_auc 0.500, acc 0.500\n"
     ]
    },
    {
     "data": {
      "application/vnd.jupyter.widget-view+json": {
       "model_id": "7a8bffbce57e4c2db8ac361a395c61b4",
       "version_major": 2,
       "version_minor": 0
      },
      "text/plain": [
       "train, epoch 10:   0%|          | 0/62 [00:00<?, ?it/s]"
      ]
     },
     "metadata": {},
     "output_type": "display_data"
    },
    {
     "name": "stdout",
     "output_type": "stream",
     "text": [
      "val, epoch 10, roc_auc 0.516, acc 0.515\n"
     ]
    },
    {
     "data": {
      "application/vnd.jupyter.widget-view+json": {
       "model_id": "008e4bf4b8e549e99beec38f08f44f51",
       "version_major": 2,
       "version_minor": 0
      },
      "text/plain": [
       "train, epoch 11:   0%|          | 0/62 [00:00<?, ?it/s]"
      ]
     },
     "metadata": {},
     "output_type": "display_data"
    },
    {
     "name": "stdout",
     "output_type": "stream",
     "text": [
      "val, epoch 11, roc_auc 0.536, acc 0.535\n"
     ]
    },
    {
     "data": {
      "application/vnd.jupyter.widget-view+json": {
       "model_id": "89a7ad2c6f004a2085bff0f0f23ca242",
       "version_major": 2,
       "version_minor": 0
      },
      "text/plain": [
       "train, epoch 12:   0%|          | 0/62 [00:00<?, ?it/s]"
      ]
     },
     "metadata": {},
     "output_type": "display_data"
    },
    {
     "name": "stdout",
     "output_type": "stream",
     "text": [
      "val, epoch 12, roc_auc 0.532, acc 0.532\n"
     ]
    },
    {
     "data": {
      "application/vnd.jupyter.widget-view+json": {
       "model_id": "8d22a588953b40b2a818928139023953",
       "version_major": 2,
       "version_minor": 0
      },
      "text/plain": [
       "train, epoch 13:   0%|          | 0/62 [00:00<?, ?it/s]"
      ]
     },
     "metadata": {},
     "output_type": "display_data"
    },
    {
     "name": "stdout",
     "output_type": "stream",
     "text": [
      "val, epoch 13, roc_auc 0.525, acc 0.524\n"
     ]
    },
    {
     "data": {
      "application/vnd.jupyter.widget-view+json": {
       "model_id": "b6823bb376d540eea8d814ed602c64c9",
       "version_major": 2,
       "version_minor": 0
      },
      "text/plain": [
       "train, epoch 14:   0%|          | 0/62 [00:00<?, ?it/s]"
      ]
     },
     "metadata": {},
     "output_type": "display_data"
    },
    {
     "name": "stdout",
     "output_type": "stream",
     "text": [
      "val, epoch 14, roc_auc 0.528, acc 0.528\n"
     ]
    },
    {
     "data": {
      "application/vnd.jupyter.widget-view+json": {
       "model_id": "75e15ca690594f9b9f9dad64f1c3e8f9",
       "version_major": 2,
       "version_minor": 0
      },
      "text/plain": [
       "train, epoch 15:   0%|          | 0/62 [00:00<?, ?it/s]"
      ]
     },
     "metadata": {},
     "output_type": "display_data"
    }
   ],
   "source": [
    "for _ in range(epochs):\n",
    "    train(\n",
    "        model,\n",
    "        train_loader,\n",
    "        optimizer,\n",
    "        criterion,\n",
    "        device,\n",
    "        writer,\n",
    "        is_pytorch_loss=True,\n",
    "    )\n",
    "    evaluate_with_crop(\n",
    "        model,\n",
    "        val_set,\n",
    "        device,\n",
    "        writer,\n",
    "        mode=\"val\",\n",
    "        duration=duration\n",
    "    )\n",
    "    scheduler.step()\n",
    "    writer.save(\n",
    "        \"val\", \"acc\", model=model, optimizer=optimizer, scheduler=scheduler\n",
    "    )"
   ]
  },
  {
   "cell_type": "markdown",
   "id": "19f7ad86-74df-43b9-8f2e-4e58e304b3f4",
   "metadata": {},
   "source": [
    "## Final evaluation"
   ]
  },
  {
   "cell_type": "code",
   "execution_count": null,
   "id": "cdb65865-c9fd-49ab-ac00-99c507417a81",
   "metadata": {},
   "outputs": [],
   "source": [
    "evaluate_with_crop(\n",
    "    model,\n",
    "    val_set,\n",
    "    device,\n",
    "    writer,\n",
    "    mode=\"test\",\n",
    "    duration=duration\n",
    ")\n",
    "# writer.close()"
   ]
  },
  {
   "cell_type": "code",
   "execution_count": null,
   "id": "7c69aa49-75e0-40c8-b94d-b880b7030439",
   "metadata": {},
   "outputs": [],
   "source": [
    "train_set_nocrop = BirdDCASE(\n",
    "    \"../../data\",\n",
    "    subset=\"training\",\n",
    "    validation_set=validation_set,\n",
    "    crop=False,\n",
    "    duration=duration\n",
    ")\n",
    "\n",
    "evaluate_with_crop(\n",
    "    model,\n",
    "    train_set_nocrop,\n",
    "    device,\n",
    "    writer,\n",
    "    mode=\"train_test\",\n",
    "    duration=duration\n",
    ")\n",
    "writer.close()"
   ]
  },
  {
   "cell_type": "code",
   "execution_count": null,
   "id": "3583d0bc-59f5-4a9a-bd0d-7554a9c1e805",
   "metadata": {},
   "outputs": [],
   "source": []
  }
 ],
 "metadata": {
  "kernelspec": {
   "display_name": "Python [conda env:.conda-topo]",
   "language": "python",
   "name": "conda-env-.conda-topo-py"
  },
  "language_info": {
   "codemirror_mode": {
    "name": "ipython",
    "version": 3
   },
   "file_extension": ".py",
   "mimetype": "text/x-python",
   "name": "python",
   "nbconvert_exporter": "python",
   "pygments_lexer": "ipython3",
   "version": "3.10.4"
  }
 },
 "nbformat": 4,
 "nbformat_minor": 5
}
