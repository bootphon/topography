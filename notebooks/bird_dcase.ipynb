{
 "cells": [
  {
   "cell_type": "markdown",
   "id": "403ee46c-b99e-4217-a643-b2059ede004f",
   "metadata": {},
   "source": [
    "# Birdsong detection with VGG16\n",
    "\n",
    "The following notebook trains a VGG16 from scratch on Bird-DCASE\n",
    "to detect birdsong and achieves 0.816 test accuracy and 0.816 ROC AUC\n",
    "after 36 epochs (around 1M seconds of training data seen) with the given hyperparameters.\n",
    "\n",
    "The dataset is prepared by separating each intermediate dataset into 3 subsets\n",
    "for training, validation and testing (with 80%, 10% and 10% of the data) then\n",
    "combining them between intermediate datasets."
   ]
  },
  {
   "cell_type": "markdown",
   "id": "d196ae1a-2934-41e5-8460-db472a1d8c1e",
   "metadata": {},
   "source": [
    "## Imports"
   ]
  },
  {
   "cell_type": "code",
   "execution_count": null,
   "id": "d476d0d2",
   "metadata": {},
   "outputs": [],
   "source": [
    "import random\n",
    "from collections import Counter\n",
    "\n",
    "import numpy as np\n",
    "import torch\n",
    "import torch.optim as optim\n",
    "from torch import nn\n",
    "\n",
    "from topography.models import speech_vgg\n",
    "from topography.training import Writer, train, evaluate\n",
    "from topography.utils import LinearWarmupCosineAnnealingLR\n",
    "from topography.utils.data import BirdDCASE, evaluate_avg_voting"
   ]
  },
  {
   "cell_type": "markdown",
   "id": "6f7840f1-63f0-4475-bbab-0c2a87ae353f",
   "metadata": {},
   "source": [
    "## Hyperparameters and random seed"
   ]
  },
  {
   "cell_type": "code",
   "execution_count": null,
   "id": "842c1bf5-7a66-4656-99a4-90d0a4cae483",
   "metadata": {},
   "outputs": [],
   "source": [
    "seed = 0  # Random seed\n",
    "root = \"./bird_dcase\"  # Output directory\n",
    "\n",
    "epochs = 12\n",
    "batch_size = 256  # Batch size\n",
    "lr = 0.01  # Base learning rate\n",
    "weight_decay = 0.01  # Weight decay\n",
    "momentum = 0.9  # SGD momentum"
   ]
  },
  {
   "cell_type": "code",
   "execution_count": null,
   "id": "8b589d9b-bc05-43ae-a5eb-13cc10299399",
   "metadata": {},
   "outputs": [],
   "source": [
    "random.seed(seed)\n",
    "np.random.seed(seed)\n",
    "torch.manual_seed(seed)\n",
    "torch.cuda.manual_seed_all(seed)\n",
    "torch.backends.cudnn.deterministic = True\n",
    "torch.backends.cudnn.benchmark = False"
   ]
  },
  {
   "cell_type": "markdown",
   "id": "e51bf739-0b54-4c42-a811-f8688cc12517",
   "metadata": {},
   "source": [
    "## Data loading"
   ]
  },
  {
   "cell_type": "code",
   "execution_count": null,
   "id": "b85ffc92-b18a-46e2-be47-705e296a9dc6",
   "metadata": {},
   "outputs": [],
   "source": [
    "# Set to True if you run this for the first time\n",
    "download, process = False, False\n",
    "\n",
    "train_set = BirdDCASE(\n",
    "    \"../../data\", \"training\", download=download, process=process\n",
    ")\n",
    "val_set = BirdDCASE(\"../../data\", \"validation\")\n",
    "test_set = BirdDCASE(\"../../data\", \"testing\")\n",
    "\n",
    "train_loader = torch.utils.data.DataLoader(\n",
    "    train_set,\n",
    "    batch_size=batch_size,\n",
    "    shuffle=True,\n",
    "    num_workers=2,\n",
    "    pin_memory=True,\n",
    ")"
   ]
  },
  {
   "cell_type": "code",
   "execution_count": null,
   "id": "c0676ef4-d3db-415a-a671-18797ef43333",
   "metadata": {},
   "outputs": [],
   "source": [
    "for name, dataset in zip(\n",
    "    [\"Training:\\t\", \"Validation:\\t\", \"Testing:\\t\"],\n",
    "    [train_set, val_set, test_set],\n",
    "):  # Dataset split across sources\n",
    "    print(name, Counter([meta.datasetid for meta in dataset.metadata.values()]))"
   ]
  },
  {
   "cell_type": "code",
   "execution_count": null,
   "id": "e568164b-f349-4737-84a1-f7f0d93c5a2c",
   "metadata": {},
   "outputs": [],
   "source": [
    "epochs = 1 + 1_000_000 // len(train_set)\n",
    "print(\"Number of training epochs:\", epochs)"
   ]
  },
  {
   "cell_type": "markdown",
   "id": "213e2cf3-6398-4bbb-990c-ab164dabfec9",
   "metadata": {},
   "source": [
    "## Defining the main componenents"
   ]
  },
  {
   "cell_type": "code",
   "execution_count": null,
   "id": "962d57b5-97c5-495f-afff-5155afde03a8",
   "metadata": {},
   "outputs": [],
   "source": [
    "device = \"cuda\" if torch.cuda.is_available() else \"cpu\"\n",
    "criterion = nn.CrossEntropyLoss()\n",
    "model = speech_vgg(num_classes=2).to(device)\n",
    "optimizer = optim.SGD(\n",
    "    model.parameters(), lr=lr, momentum=momentum, weight_decay=weight_decay\n",
    ")\n",
    "\n",
    "scheduler = LinearWarmupCosineAnnealingLR(\n",
    "    optimizer, warmup_epochs=epochs * 0.3, max_epochs=epochs\n",
    ")\n",
    "writer = Writer(root)\n",
    "\n",
    "writer.log_config(\n",
    "    dict(\n",
    "        epochs=epochs,\n",
    "        batch_size=batch_size,\n",
    "        lr=lr,\n",
    "        weight_decay=weight_decay,\n",
    "        momentum=momentum,\n",
    "        model=\"speech_vgg\",\n",
    "        optimizer=\"sgd\",\n",
    "        scheduler=\"LinearWarmupCosineAnnealingLR\",\n",
    "    )\n",
    ")"
   ]
  },
  {
   "cell_type": "markdown",
   "id": "05dd9b7c-5c66-42e1-8d7d-612657e9abd9",
   "metadata": {},
   "source": [
    "## Training the model"
   ]
  },
  {
   "cell_type": "code",
   "execution_count": null,
   "id": "b7ab8f14-e700-431f-8868-c6248677ac56",
   "metadata": {},
   "outputs": [],
   "source": [
    "for _ in range(epochs):\n",
    "    train(\n",
    "        model,\n",
    "        train_loader,\n",
    "        optimizer,\n",
    "        criterion,\n",
    "        device,\n",
    "        writer,\n",
    "        is_pytorch_loss=True,\n",
    "    )\n",
    "    evaluate_avg_voting(model, val_set, device, writer, mode=\"val\")\n",
    "    scheduler.step()\n",
    "    writer.save(\n",
    "        \"val\", \"acc\", model=model, optimizer=optimizer, scheduler=scheduler\n",
    "    )"
   ]
  },
  {
   "cell_type": "markdown",
   "id": "19f7ad86-74df-43b9-8f2e-4e58e304b3f4",
   "metadata": {},
   "source": [
    "## Final evaluation"
   ]
  },
  {
   "cell_type": "code",
   "execution_count": null,
   "id": "cdb65865-c9fd-49ab-ac00-99c507417a81",
   "metadata": {},
   "outputs": [],
   "source": [
    "evaluate_avg_voting(model, test_set, device, writer, mode=\"test\")\n",
    "writer.close()"
   ]
  }
 ],
 "metadata": {
  "kernelspec": {
   "display_name": "Python 3.10.4 ('topo')",
   "language": "python",
   "name": "python3"
  },
  "language_info": {
   "codemirror_mode": {
    "name": "ipython",
    "version": 3
   },
   "file_extension": ".py",
   "mimetype": "text/x-python",
   "name": "python",
   "nbconvert_exporter": "python",
   "pygments_lexer": "ipython3",
   "version": "3.10.4"
  },
  "vscode": {
   "interpreter": {
    "hash": "88ffeeafbd968b2617b2cbaac8c628eadb847e9e47f93ca2cab1d47518269ddb"
   }
  }
 },
 "nbformat": 4,
 "nbformat_minor": 5
}
