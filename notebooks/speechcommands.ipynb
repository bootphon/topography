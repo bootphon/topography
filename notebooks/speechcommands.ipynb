{
 "cells": [
  {
   "cell_type": "code",
   "execution_count": null,
   "id": "d476d0d2",
   "metadata": {},
   "outputs": [],
   "source": [
    "from IPython.display import Audio\n",
    "from torchaudio.datasets import SPEECHCOMMANDS\n",
    "\n",
    "idx = 80_000\n",
    "dataset = SPEECHCOMMANDS(root=\"../data\", download=True)\n",
    "waveform, sr, *_ = dataset[idx]\n",
    "audio = Audio(waveform[0].numpy(), rate=sr)\n",
    "audio"
   ]
  }
 ],
 "metadata": {
  "kernelspec": {
   "display_name": "Python [conda env:topo]",
   "language": "python",
   "name": "conda-env-topo-py"
  },
  "language_info": {
   "codemirror_mode": {
    "name": "ipython",
    "version": 3
   },
   "file_extension": ".py",
   "mimetype": "text/x-python",
   "name": "python",
   "nbconvert_exporter": "python",
   "pygments_lexer": "ipython3",
   "version": "3.10.4"
  }
 },
 "nbformat": 4,
 "nbformat_minor": 5
}
