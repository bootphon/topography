{
 "cells": [
  {
   "cell_type": "code",
   "execution_count": null,
   "id": "d476d0d2",
   "metadata": {},
   "outputs": [],
   "source": [
    "import random\n",
    "\n",
    "import numpy as np\n",
    "import torch\n",
    "import torch.nn as nn\n",
    "import torch.optim as optim\n",
    "import torchvision\n",
    "from torchvision import transforms\n",
    "\n",
    "from topography.models.audio import speech_vgg\n",
    "from topography.training import Writer, evaluate, train\n",
    "from topography.utils import LinearWarmupCosineAnnealingLR\n",
    "from topography.utils.data.speechcommands import SpeechCommands"
   ]
  },
  {
   "cell_type": "code",
   "execution_count": null,
   "id": "842c1bf5-7a66-4656-99a4-90d0a4cae483",
   "metadata": {},
   "outputs": [],
   "source": [
    "seed = 0 # Random seed\n",
    "root = './speech_commands' # Output directory\n",
    "\n",
    "epochs = 12 # Number of training epochs\n",
    "batch_size = 256 # Batch size\n",
    "lr = 0.01 # Base learning rate\n",
    "weight_decay = 0.01 # Weight decay\n",
    "momentum = 0.9 # SGD momentum"
   ]
  },
  {
   "cell_type": "code",
   "execution_count": null,
   "id": "8b589d9b-bc05-43ae-a5eb-13cc10299399",
   "metadata": {},
   "outputs": [],
   "source": [
    "random.seed(seed)\n",
    "np.random.seed(seed)\n",
    "torch.manual_seed(seed)\n",
    "torch.cuda.manual_seed_all(seed)\n",
    "torch.backends.cudnn.deterministic = True\n",
    "torch.backends.cudnn.benchmark = False"
   ]
  },
  {
   "cell_type": "code",
   "execution_count": null,
   "id": "18d037aa-75ee-46c3-a130-36246177831c",
   "metadata": {},
   "outputs": [],
   "source": [
    "train_set = SpeechCommands(\"../../data\", subset=\"training\", build=False, n_fft=256, hop_length=128)\n",
    "train_loader = torch.utils.data.DataLoader(\n",
    "    train_set, batch_size=batch_size, shuffle=True,\n",
    "    num_workers=2, pin_memory=True)\n",
    "val_set = SpeechCommands(\"../../data\", subset=\"validation\", build=False, n_fft=256, hop_length=128)\n",
    "val_loader = torch.utils.data.DataLoader(\n",
    "    val_set, batch_size=batch_size, shuffle=False,\n",
    "    num_workers=2, pin_memory=True)\n",
    "test_set = SpeechCommands(\"../../data\", subset=\"testing\", build=False, n_fft=256, hop_length=128)\n",
    "test_loader = torch.utils.data.DataLoader(\n",
    "    test_set, batch_size=batch_size, shuffle=False,\n",
    "    num_workers=2, pin_memory=True)"
   ]
  },
  {
   "cell_type": "code",
   "execution_count": null,
   "id": "962d57b5-97c5-495f-afff-5155afde03a8",
   "metadata": {},
   "outputs": [],
   "source": [
    "device = 'cuda' if torch.cuda.is_available() else 'cpu'\n",
    "criterion = nn.CrossEntropyLoss()\n",
    "model = speech_vgg().to(device)\n",
    "optimizer = optim.SGD(model.parameters(),\n",
    "                      lr=lr, momentum=momentum, weight_decay=weight_decay)\n",
    "\n",
    "scheduler = LinearWarmupCosineAnnealingLR(\n",
    "    optimizer, warmup_epochs=epochs*0.3, max_epochs=epochs)\n",
    "writer = Writer(root)\n",
    "\n",
    "writer.log_hparams(epochs=epochs, batch_size=batch_size, lr=lr,\n",
    "                   weight_decay=weight_decay, momentum=momentum,\n",
    "                   model=\"speech_vgg\",\n",
    "                   optimizer='sgd', scheduler='LinearWarmupCosineAnnealingLR')"
   ]
  },
  {
   "cell_type": "code",
   "execution_count": null,
   "id": "b7ab8f14-e700-431f-8868-c6248677ac56",
   "metadata": {},
   "outputs": [],
   "source": [
    "for _ in range(epochs):\n",
    "    train(model, train_loader, optimizer, criterion, device, writer, is_pytorch_loss=True)\n",
    "    evaluate(model, val_loader, criterion, device, writer, mode='val', is_pytorch_loss=True)\n",
    "    scheduler.step()\n",
    "    writer.save('val', 'acc', model=model, optimizer=optimizer,\n",
    "                scheduler=scheduler)"
   ]
  },
  {
   "cell_type": "code",
   "execution_count": null,
   "id": "cdb65865-c9fd-49ab-ac00-99c507417a81",
   "metadata": {},
   "outputs": [],
   "source": [
    "evaluate(model, test_loader, criterion, device, writer, mode='test', is_pytorch_loss=True)\n",
    "writer.close()"
   ]
  }
 ],
 "metadata": {
  "kernelspec": {
   "display_name": "Python [conda env:.conda-topo]",
   "language": "python",
   "name": "conda-env-.conda-topo-py"
  },
  "language_info": {
   "codemirror_mode": {
    "name": "ipython",
    "version": 3
   },
   "file_extension": ".py",
   "mimetype": "text/x-python",
   "name": "python",
   "nbconvert_exporter": "python",
   "pygments_lexer": "ipython3",
   "version": "3.10.4"
  }
 },
 "nbformat": 4,
 "nbformat_minor": 5
}
